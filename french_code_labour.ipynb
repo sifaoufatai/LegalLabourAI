{
 "cells": [
  {
   "cell_type": "code",
   "id": "initial_id",
   "metadata": {
    "collapsed": true,
    "ExecuteTime": {
     "end_time": "2025-07-24T10:55:57.536079Z",
     "start_time": "2025-07-24T10:55:57.522948Z"
    }
   },
   "source": "print('hello')",
   "outputs": [
    {
     "name": "stdout",
     "output_type": "stream",
     "text": [
      "hello\n"
     ]
    }
   ],
   "execution_count": 1
  },
  {
   "metadata": {
    "ExecuteTime": {
     "end_time": "2025-07-24T11:40:19.150399Z",
     "start_time": "2025-07-24T11:40:19.146843Z"
    }
   },
   "cell_type": "code",
   "source": [
    "import os\n",
    "from dotenv import load_dotenv\n",
    "load_dotenv()\n",
    "\n",
    "OPENAI_API_KEY = os.getenv(\"OPENAI_API_KEY\")\n",
    "MODEL = \"gpt-3.5-turbo\"\n",
    "MODEL=\"mistral:7b-instruct\"\n"
   ],
   "id": "202d996b351b5c70",
   "outputs": [],
   "execution_count": 29
  },
  {
   "metadata": {},
   "cell_type": "markdown",
   "source": "## ChatGPT API and ollama on local\n",
   "id": "9a758ca4983383b8"
  },
  {
   "metadata": {
    "ExecuteTime": {
     "end_time": "2025-07-24T11:40:25.669099Z",
     "start_time": "2025-07-24T11:40:21.213492Z"
    }
   },
   "cell_type": "code",
   "source": [
    "from langchain_openai.chat_models import ChatOpenAI\n",
    "from langchain_community.llms import Ollama\n",
    "\n",
    "if MODEL.startswith(\"mistral\"):\n",
    "    model = Ollama(model=MODEL)\n",
    "\n",
    "\n",
    "\n",
    "\n",
    "else :\n",
    "    model = ChatOpenAI(\n",
    "        model_name=MODEL,\n",
    "        openai_api_key=OPENAI_API_KEY)\n",
    "\n",
    "\n",
    "\n",
    "model.invoke(\"tell me a joke\")\n",
    "# %%\n"
   ],
   "id": "bb3fc5c661f86c78",
   "outputs": [
    {
     "data": {
      "text/plain": [
       "\" Why don't scientists trust atoms?\\n\\nBecause they make up everything! (Everything is the punchline here, not everything in the universe)\""
      ]
     },
     "execution_count": 30,
     "metadata": {},
     "output_type": "execute_result"
    }
   ],
   "execution_count": 30
  },
  {
   "metadata": {},
   "cell_type": "code",
   "outputs": [],
   "execution_count": null,
   "source": "",
   "id": "ccdf0187a0732f77"
  },
  {
   "metadata": {},
   "cell_type": "markdown",
   "source": "### basic Rag",
   "id": "a195b550c45b55b0"
  },
  {
   "metadata": {},
   "cell_type": "markdown",
   "source": "load french code labour and split it as pages",
   "id": "254cefea75962d3d"
  },
  {
   "metadata": {
    "ExecuteTime": {
     "end_time": "2025-07-24T12:25:31.720232Z",
     "start_time": "2025-07-24T12:03:03.097941Z"
    }
   },
   "cell_type": "code",
   "source": [
    "from langchain_community.document_loaders import PyPDFLoader\n",
    "loader=PyPDFLoader(\"./LEGITEXT000006072050.pdf\")\n",
    "\n",
    "pages = loader.load_and_split()\n",
    "\n",
    "pages\n",
    "#\n",
    "\n",
    "from langchain.chains.question_answering import load_qa_chain\n"
   ],
   "id": "a6c4f9a40e57f2dd",
   "outputs": [],
   "execution_count": 32
  },
  {
   "metadata": {
    "ExecuteTime": {
     "end_time": "2025-07-24T12:29:54.719589Z",
     "start_time": "2025-07-24T12:29:54.716560Z"
    }
   },
   "cell_type": "code",
   "source": "print(pages[0])\n",
   "id": "f504574c85d39a6",
   "outputs": [
    {
     "name": "stdout",
     "output_type": "stream",
     "text": [
      "page_content='Code du travail\n",
      "Partie législative\n",
      "Chapitre préliminaire : Dialogue social.\n",
      "Article L1\n",
      " \n",
      "Tout projet de réforme envisagé par le Gouvernement qui porte sur les relations individuelles et collectives\n",
      "du travail, l'emploi et la formation professionnelle et qui relève du champ de la négociation nationale et\n",
      "interprofessionnelle fait l'objet d'une concertation préalable avec les organisations syndicales de salariés et\n",
      "d'employeurs représentatives au niveau national et interprofessionnel en vue de l'ouverture éventuelle d'une\n",
      "telle négociation.\n",
      " \n",
      "A cet effet, le Gouvernement leur communique un document d'orientation présentant des éléments de\n",
      "diagnostic, les objectifs poursuivis et les principales options.\n",
      " \n",
      "Lorsqu'elles font connaître leur intention d'engager une telle négociation, les organisations indiquent\n",
      "également au Gouvernement le délai qu'elles estiment nécessaire pour conduire la négociation.\n",
      " \n",
      "Le présent article n'est pas applicable en cas d'urgence. Lorsque le Gouvernement décide de mettre en\n",
      "oeuvre un projet de réforme en l'absence de procédure de concertation, il fait connaître cette décision\n",
      "aux organisations mentionnées au premier alinéa en la motivant dans un document qu'il transmet à ces\n",
      "organisations avant de prendre toute mesure nécessitée par l'urgence.\n",
      "Article L2\n",
      " \n",
      "Le Gouvernement soumet les projets de textes législatifs et réglementaires élaborés dans le champ défini par\n",
      "l'article L. 1, au vu des résultats de la procédure de concertation et de négociation, à la Commission nationale\n",
      "de la négociation collective, de l'emploi et de la formation professionnelle dans les conditions prévues à\n",
      "l'article L. 2271-1.\n",
      "Article L3\n",
      " \n",
      " \n",
      "Chaque année, les orientations de la politique du Gouvernement dans les domaines des relations\n",
      "individuelles et collectives du travail, de l'emploi et de la formation professionnelle, ainsi que le calendrier\n",
      "envisagé pour leur mise en oeuvre sont présentés pour l'année à venir devant la Commission nationale de\n",
      "la négociation collective, de l'emploi et de la formation professionnelle. Les organisations mentionnées à\n",
      "l'article L. 1 présentent, pour leur part, l'état d'avancement des négociations interprofessionnelles en cours\n",
      "ainsi que le calendrier de celles qu'elles entendent mener ou engager dans l'année à venir. Le compte rendu\n",
      "des débats est publié.\n",
      " \n",
      "Chaque année, le Gouvernement remet au Parlement un rapport faisant état de toutes les procédures de\n",
      "concertation et de consultation mises en oeuvre pendant l'année écoulée en application des articles L. 1 et\n",
      "Code du travail - Dernière modification le 11 juillet 2025 - Document généré le 22 juillet 2025' metadata={'producer': 'Apache FOP Version SVN', 'creator': 'Apache FOP Version SVN', 'creationdate': '2025-07-22T21:06:45+02:00', 'source': './LEGITEXT000006072050.pdf', 'total_pages': 3462, 'page': 0, 'page_label': '1'}\n"
     ]
    }
   ],
   "execution_count": 35
  },
  {
   "metadata": {},
   "cell_type": "markdown",
   "source": "",
   "id": "577b378cd305add5"
  },
  {
   "metadata": {},
   "cell_type": "markdown",
   "source": [
    "# now define  an article\n",
    "an article we be define in french  like this:\n",
    "structure of the article:\n",
    "1. theme\n",
    "2. section\n",
    "3. article\n",
    "4. content\n",
    "\n",
    "               { \"theme\": current_theme,\n",
    "                \"section\": current_section,\n",
    "                \"article\": article_text,\n",
    "                \"content\":"
   ],
   "id": "c22eaced2b5a5310"
  },
  {
   "metadata": {},
   "cell_type": "markdown",
   "source": "#### extract the article and structure it like explained above\n",
   "id": "85ca6082d9a9ba09"
  },
  {
   "metadata": {
    "ExecuteTime": {
     "end_time": "2025-07-24T14:08:22.719751Z",
     "start_time": "2025-07-24T14:08:22.716958Z"
    }
   },
   "cell_type": "code",
   "source": [
    "import re\n",
    "\n",
    "section_pattern = re.compile(r'^Section \\d+')\n",
    "article_pattern = re.compile(r'^Article L\\d+-\\d+')\n",
    "theme_pattern = re.compile(r'^Livre [IVXLCDM]+|Titre [IVXLCDM]+|Chapitre [IVXLCDM]+')\n",
    "\n"
   ],
   "id": "3ecf34ad97cdf548",
   "outputs": [],
   "execution_count": 41
  },
  {
   "metadata": {
    "ExecuteTime": {
     "end_time": "2025-07-24T14:02:11.268009Z",
     "start_time": "2025-07-24T13:59:56.913864Z"
    }
   },
   "cell_type": "code",
   "source": [
    "current_theme = None\n",
    "current_section = None\n",
    "current_article = None\n",
    "all_structured_articles = []\n",
    "\n",
    "for page in pages:\n",
    "    lines = page.page_content.split(\"\\n\")\n",
    "    for line in lines:\n",
    "        # Detect a theme (e.g., \"Livre\", \"Titre\", \"Chapitre\")\n",
    "        if theme_pattern.match(line):\n",
    "            current_theme = line.strip()\n",
    "            continue\n",
    "        # Detect a section\n",
    "        if section_pattern.match(line):\n",
    "            current_section = line.strip()\n",
    "            continue\n",
    "        # Detect an article\n",
    "        if article_pattern.match(line):\n",
    "            current_article = line.strip()\n",
    "            all_structured_articles.append({\n",
    "                \"theme\": current_theme,\n",
    "                \"section\": current_section,\n",
    "                \"article\": current_article,\n",
    "                \"content\": \"\"\n",
    "            })\n",
    "            continue\n",
    "        # Add content to the current article\n",
    "        if all_structured_articles:\n",
    "            all_structured_articles[-1][\"content\"] += line + \"\\n\""
   ],
   "id": "3810b1f82f6e9e36",
   "outputs": [],
   "execution_count": 38
  },
  {
   "metadata": {},
   "cell_type": "markdown",
   "source": "### save the structured articles",
   "id": "d1879b8c07153d59"
  },
  {
   "metadata": {
    "ExecuteTime": {
     "end_time": "2025-07-24T14:09:47.984513Z",
     "start_time": "2025-07-24T14:09:47.906386Z"
    }
   },
   "cell_type": "code",
   "source": [
    "import json\n",
    "\n",
    "with open(\"structured_articles.json\", \"w\", encoding=\"utf-8\") as f:\n",
    "    json.dump(all_structured_articles, f, ensure_ascii=False, indent=2)\n",
    "\n",
    "    print(\"JSON file saved successfully.\")\n"
   ],
   "id": "c0dccf7027415b7e",
   "outputs": [
    {
     "name": "stdout",
     "output_type": "stream",
     "text": [
      "{'theme': \"Titre Ier : Champ d'application et calcul des seuils d'effectifs\", 'section': None, 'article': 'Article L1111-1', 'content': \" \\nLes dispositions du présent livre sont applicables aux employeurs de droit privé ainsi qu'à leurs salariés.\\n \\nElles sont également applicables au personnel des personnes publiques employé dans les conditions du\\ndroit privé, sous réserve des dispositions particulières ayant le même objet résultant du statut qui régit ce\\npersonnel.\\n\"}\n",
      "JSON file saved successfully.\n"
     ]
    }
   ],
   "execution_count": 44
  },
  {
   "metadata": {},
   "cell_type": "markdown",
   "source": "#### storage and indexing",
   "id": "7fb9314db110357a"
  },
  {
   "metadata": {
    "ExecuteTime": {
     "end_time": "2025-07-24T15:14:56.430941Z",
     "start_time": "2025-07-24T15:13:10.621871Z"
    }
   },
   "cell_type": "code",
   "source": [
    "from langchain_community.vectorstores import Chroma\n",
    "from langchain.embeddings import HuggingFaceEmbeddings\n",
    "\n",
    "texts = [article['content'] for article in all_structured_articles]\n",
    "metadatas = [\n",
    "    {\n",
    "        \"theme\": article[\"theme\"],\n",
    "        \"section\": article[\"section\"],\n",
    "        \"article\": article[\"article\"]\n",
    "    }\n",
    "    for article in all_structured_articles\n",
    "]\n",
    "\n",
    "#\n",
    "embeddings = HuggingFaceEmbeddings(model_name=\"sentence-transformers/all-MiniLM-L6-v2\")\n",
    "# embeddings = HuggingFaceEmbeddings(model_name=\"dangvantuan/sentence-camembert-large\")  # more accurate for french\n",
    "\n",
    "#\n",
    "db = Chroma.from_texts(\n",
    "    texts=texts,\n",
    "    embedding=embeddings,\n",
    "    metadatas=metadatas,\n",
    "    persist_directory=\"french_labour_code_vectordb\"\n",
    ")\n",
    "db.persist()\n",
    "\n",
    "print(\"Base vectorielle ChromaDB créée et persistée dans 'french_labour_code_vectordb'\")"
   ],
   "id": "fe22382e5d493bb",
   "outputs": [
    {
     "name": "stderr",
     "output_type": "stream",
     "text": [
      "/tmp/ipykernel_13434/533568030.py:15: LangChainDeprecationWarning: The class `HuggingFaceEmbeddings` was deprecated in LangChain 0.2.2 and will be removed in 1.0. An updated version of the class exists in the :class:`~langchain-huggingface package and should be used instead. To use it run `pip install -U :class:`~langchain-huggingface` and import as `from :class:`~langchain_huggingface import HuggingFaceEmbeddings``.\n",
      "  embeddings = HuggingFaceEmbeddings(model_name=\"sentence-transformers/all-MiniLM-L6-v2\")\n",
      "/home/INT/idrissou.f/PycharmProjects/RagProject/FrenchLabourCode/.venv/lib/python3.10/site-packages/tqdm/auto.py:21: TqdmWarning: IProgress not found. Please update jupyter and ipywidgets. See https://ipywidgets.readthedocs.io/en/stable/user_install.html\n",
      "  from .autonotebook import tqdm as notebook_tqdm\n"
     ]
    },
    {
     "name": "stdout",
     "output_type": "stream",
     "text": [
      "Base vectorielle ChromaDB créée et persistée dans 'french_labour_code_vectordb'\n"
     ]
    },
    {
     "name": "stderr",
     "output_type": "stream",
     "text": [
      "/tmp/ipykernel_13434/533568030.py:24: LangChainDeprecationWarning: Since Chroma 0.4.x the manual persistence method is no longer supported as docs are automatically persisted.\n",
      "  db.persist()\n"
     ]
    }
   ],
   "execution_count": 49
  },
  {
   "metadata": {
    "ExecuteTime": {
     "end_time": "2025-07-24T15:19:08.222595Z",
     "start_time": "2025-07-24T15:19:04.717128Z"
    }
   },
   "cell_type": "code",
   "source": [
    "from langchain_community.vectorstores import Chroma\n",
    "from langchain.embeddings import HuggingFaceEmbeddings\n",
    "\n",
    "# create embeddings\n",
    "embeddings = HuggingFaceEmbeddings(model_name=\"sentence-transformers/all-MiniLM-L6-v2\")\n",
    "# load vector db\n",
    "db = Chroma(\n",
    "    persist_directory=\"french_labour_code_vectordb\",\n",
    "    embedding_function=embeddings\n",
    ")"
   ],
   "id": "fbf3a6c778c41f74",
   "outputs": [
    {
     "name": "stderr",
     "output_type": "stream",
     "text": [
      "/tmp/ipykernel_13434/3726591181.py:7: LangChainDeprecationWarning: The class `Chroma` was deprecated in LangChain 0.2.9 and will be removed in 1.0. An updated version of the class exists in the :class:`~langchain-chroma package and should be used instead. To use it run `pip install -U :class:`~langchain-chroma` and import as `from :class:`~langchain_chroma import Chroma``.\n",
      "  db = Chroma(\n"
     ]
    }
   ],
   "execution_count": 50
  },
  {
   "metadata": {
    "ExecuteTime": {
     "end_time": "2025-07-24T15:21:12.010651Z",
     "start_time": "2025-07-24T15:21:11.992192Z"
    }
   },
   "cell_type": "code",
   "source": [
    "query = \"droit de grève\"\n",
    "results = db.similarity_search(query, k=3)  # k = nombre de résultats\n",
    "\n",
    "for doc in results:\n",
    "    print(\"Texte trouvé :\")\n",
    "    print(doc.page_content)\n",
    "    print(\"Métadonnées :\", doc.metadata)\n",
    "    print(\"-\" * 40)"
   ],
   "id": "b7ccaef60016aaea",
   "outputs": [
    {
     "name": "stdout",
     "output_type": "stream",
     "text": [
      "Texte trouvé :\n",
      " \n",
      "L'exercice du droit de grève ne peut justifier la rupture du contrat de travail, sauf faute lourde imputable au\n",
      "salarié.\n",
      " \n",
      " \n",
      "Son exercice ne peut donner lieu à aucune mesure discriminatoire telle que mentionnée à l'article L. 1132-2,\n",
      "notamment en matière de rémunérations et d'avantages sociaux.\n",
      " \n",
      " \n",
      "Tout licenciement prononcé en absence de faute lourde est nul de plein droit.\n",
      " \n",
      "\n",
      "Métadonnées : {'section': 'Section 2 : Indemnisation du préjudice.', 'theme': 'Chapitre Ier : Dispositions générales.', 'article': 'Article L2511-1'}\n",
      "----------------------------------------\n",
      "Texte trouvé :\n",
      " \n",
      "Les dispensateurs de formation de droit privé établissent, chaque année, un bilan, un compte de résultat et\n",
      "une annexe dans des conditions déterminées par décret.\n",
      " \n",
      " \n",
      "\n",
      "Métadonnées : {'section': 'Section 3 : Obligations comptables', 'theme': 'Chapitre II : Fonctionnement', 'article': 'Article L6352-6'}\n",
      "----------------------------------------\n",
      "Texte trouvé :\n",
      " \n",
      "En Guadeloupe, en Guyane, en Martinique, à Mayotte, à La Réunion, à Saint-Barthélemy, à Saint-Martin et\n",
      "à Saint-Pierre-et-Miquelon, en vue de faciliter la réalisation d'un projet professionnel, les jeunes âgés de dix-\n",
      "huit à trente ans peuvent bénéficier d'une aide financière de l'Etat dénommée \" aide au projet initiative-jeune\n",
      "\".\n",
      "\n",
      "Métadonnées : {'section': \"Section 2 : Aides à la création d'entreprise\", 'theme': \"Chapitre II : Dispositifs en faveur de l'emploi\", 'article': 'Article L5522-22'}\n",
      "----------------------------------------\n"
     ]
    }
   ],
   "execution_count": 51
  },
  {
   "metadata": {},
   "cell_type": "markdown",
   "source": "### Answering questions with rag chain",
   "id": "6ea8ea3a5b786b2d"
  },
  {
   "metadata": {
    "ExecuteTime": {
     "end_time": "2025-07-24T16:11:55.522084Z",
     "start_time": "2025-07-24T16:11:55.484266Z"
    }
   },
   "cell_type": "code",
   "source": [
    "from langchain.prompts import PromptTemplate\n",
    "from langchain.chains import RetrievalQA\n",
    "\n",
    "custom_prompt = PromptTemplate(\n",
    "    template=\"\"\"\n",
    "Vous êtes un assistant juridique expert du Code du travail français.\n",
    "Voici la question posée par l'utilisateur :\n",
    "{question}\n",
    "\n",
    "Voici le contexte extrait du Code du travail (articles pertinents) :\n",
    "{context}\n",
    "\n",
    "Consignes :\n",
    "- Répondez uniquement en vous appuyant sur le contexte fourni.\n",
    "- Citez explicitement les articles du Code du travail utilisés dans la réponse.\n",
    "- Si la réponse n'est pas dans le contexte, dites-le clairement.\n",
    "\n",
    "Réponse :\n",
    "\"\"\",\n",
    "    input_variables=[\"question\", \"context\"]\n",
    ")\n",
    "\n",
    "qa_chain = RetrievalQA.from_chain_type(\n",
    "    llm=model,\n",
    "    retriever=db.as_retriever(),\n",
    "    chain_type_kwargs={\"prompt\": custom_prompt}\n",
    ")"
   ],
   "id": "b4383f12115e4ab1",
   "outputs": [],
   "execution_count": 53
  },
  {
   "metadata": {
    "ExecuteTime": {
     "end_time": "2025-07-24T16:13:26.200688Z",
     "start_time": "2025-07-24T16:12:23.384570Z"
    }
   },
   "cell_type": "code",
   "source": [
    "user_question = \"Je viens d'être embauchée, puis-je démissionner ?\"\n",
    "result = qa_chain({\"query\": user_question})\n",
    "print(result[\"result\"])"
   ],
   "id": "6a6500dbadfd8fc9",
   "outputs": [
    {
     "name": "stderr",
     "output_type": "stream",
     "text": [
      "/tmp/ipykernel_13434/103748310.py:2: LangChainDeprecationWarning: The method `Chain.__call__` was deprecated in langchain 0.1.0 and will be removed in 1.0. Use :meth:`~invoke` instead.\n",
      "  result = qa_chain({\"query\": user_question})\n"
     ]
    },
    {
     "name": "stdout",
     "output_type": "stream",
     "text": [
      " Oui, vous pouvez démissionner après avoir été embauchée. Cependant, il est important de respecter les conditions prévues par votre contrat de travail et par la loi sur le droit de se retirer du travail salarié.\n",
      "\n",
      "En application de l'article L.3221-1 du Code du travail français, vous ne pouvez démissionner que dans un délai de deux mois suivant votre embauche.\n",
      "\n",
      "Par ailleurs, en vertu de l'article L.4521-2, tout manquement à vos devoirs dans l'exercice de vos fonctions peut constituer une faute disciplinaire. Si vous démissionnez sans raison valide ou valable, votre employeur pourra éventuellement invoquer cette faute pour justifier d'un préjudice au titre du contrat de travail.\n",
      "\n",
      "Enfin, en application de l'article L.132-5 du Code du travail, le contrat de travail est transmis au salarié, au plus tard, dans les deux jours ouvrables suivant l'embauche. Si ce n'est pas le cas, vous pourriez éventuellement invoquer ce manquement pour justifier un retard à votre démission.\n",
      "\n",
      "Il est donc important de vérifier si ces conditions sont respectées avant de prendre une décision irréversible de démission. Il est conseillé de consulter une organisation de protection des intérêts du salariat ou un avocat spécialisé en droit du travail pour obtenir conseil et assistance légale dans ce sens.\n"
     ]
    }
   ],
   "execution_count": 54
  },
  {
   "metadata": {
    "ExecuteTime": {
     "end_time": "2025-07-25T11:10:30.507119Z",
     "start_time": "2025-07-25T11:09:38.288879Z"
    }
   },
   "cell_type": "code",
   "source": [
    "from langchain.memory import ConversationBufferMemory\n",
    "from langchain.chains import ConversationalRetrievalChain\n",
    "\n",
    "# Créer la mémoire\n",
    "memory = ConversationBufferMemory(\n",
    "    memory_key=\"chat_history\",\n",
    "    return_messages=True\n",
    ")\n",
    "\n",
    "# Créer la chaîne RAG avec mémoire\n",
    "qa_chain = ConversationalRetrievalChain.from_llm(\n",
    "    llm=model,\n",
    "    retriever=db.as_retriever(),\n",
    "    memory=memory\n",
    ")\n",
    "\n",
    "# Exemple d’utilisation\n",
    "user_question = \"Je viens d'être embauchée, puis-je démissionner ?\"\n",
    "result = qa_chain({\"question\": user_question})\n",
    "print(result[\"answer\"])\n",
    "\n",
    "# Pour continuer la conversation, il suffit de rappeler la chaîne avec de nouvelles questions :\n",
    "result2 = qa_chain({\"question\": \"Et quelles sont les conditions pour un CDI ?\"})\n",
    "print(result2[\"answer\"])"
   ],
   "id": "2d2d6e44a9872589",
   "outputs": [
    {
     "name": "stdout",
     "output_type": "stream",
     "text": [
      " Oui, vous pouvez démissionner à tout moment. Cependant, il est important de respecter les obligations légales et contractuelles liées à votre démission.\n",
      " Les conditions requises pour obtenir un contrat à durée indéterminée (CDI) ne sont pas explicitement mentionnées dans le contexte fourni. Cependant, en général, les conditions requises pour un CDI peuvent inclure que l'emploi soit permanent, qu'il y ait une convention collective ou un accord d'entreprise qui prévoie des contrats à durée indéterminée dans cette profession, et que le travail est réalisé de manière régulière et habituelle. Il est donc recommandé de consulter la législation locale sur les contrats de travail pour obtenir des informations précises.\n"
     ]
    }
   ],
   "execution_count": 56
  },
  {
   "metadata": {
    "ExecuteTime": {
     "end_time": "2025-07-25T11:25:12.380086Z",
     "start_time": "2025-07-25T11:25:12.174890Z"
    }
   },
   "cell_type": "code",
   "source": [
    "import streamlit as st\n",
    "\n",
    "st.title(\"Assistant Code du Travail\")\n",
    "\n",
    "if \"chat_history\" not in st.session_state:\n",
    "    st.session_state.chat_history = []\n",
    "\n",
    "user_input = st.text_input(\"Posez votre question :\")\n",
    "\n",
    "if st.button(\"Envoyer\") and user_input:\n",
    "    result = qa_chain({\"question\": user_input})\n",
    "    st.session_state.chat_history.append((\"user\", user_input))\n",
    "    st.session_state.chat_history.append((\"ai\", result[\"answer\"]))\n",
    "\n",
    "for speaker, message in st.session_state.chat_history:\n",
    "    if speaker == \"user\":\n",
    "        st.markdown(f\"**Vous :** {message}\")\n",
    "    else:\n",
    "        st.markdown(f\"**Assistant :** {message}\")"
   ],
   "id": "a1afab6bbb68c68e",
   "outputs": [
    {
     "name": "stderr",
     "output_type": "stream",
     "text": [
      "2025-07-25 13:25:12.309 WARNING streamlit.runtime.scriptrunner_utils.script_run_context: Thread 'MainThread': missing ScriptRunContext! This warning can be ignored when running in bare mode.\n",
      "2025-07-25 13:25:12.370 \n",
      "  \u001B[33m\u001B[1mWarning:\u001B[0m to view this Streamlit app on a browser, run it with the following\n",
      "  command:\n",
      "\n",
      "    streamlit run /home/INT/idrissou.f/PycharmProjects/RagProject/FrenchLabourCode/.venv/lib/python3.10/site-packages/ipykernel_launcher.py [ARGUMENTS]\n",
      "2025-07-25 13:25:12.370 Thread 'MainThread': missing ScriptRunContext! This warning can be ignored when running in bare mode.\n",
      "2025-07-25 13:25:12.371 Thread 'MainThread': missing ScriptRunContext! This warning can be ignored when running in bare mode.\n",
      "2025-07-25 13:25:12.371 Thread 'MainThread': missing ScriptRunContext! This warning can be ignored when running in bare mode.\n",
      "2025-07-25 13:25:12.371 Session state does not function when running a script without `streamlit run`\n",
      "2025-07-25 13:25:12.372 Thread 'MainThread': missing ScriptRunContext! This warning can be ignored when running in bare mode.\n",
      "2025-07-25 13:25:12.372 Thread 'MainThread': missing ScriptRunContext! This warning can be ignored when running in bare mode.\n",
      "2025-07-25 13:25:12.373 Thread 'MainThread': missing ScriptRunContext! This warning can be ignored when running in bare mode.\n",
      "2025-07-25 13:25:12.373 Thread 'MainThread': missing ScriptRunContext! This warning can be ignored when running in bare mode.\n",
      "2025-07-25 13:25:12.374 Thread 'MainThread': missing ScriptRunContext! This warning can be ignored when running in bare mode.\n",
      "2025-07-25 13:25:12.374 Thread 'MainThread': missing ScriptRunContext! This warning can be ignored when running in bare mode.\n",
      "2025-07-25 13:25:12.374 Thread 'MainThread': missing ScriptRunContext! This warning can be ignored when running in bare mode.\n",
      "2025-07-25 13:25:12.375 Thread 'MainThread': missing ScriptRunContext! This warning can be ignored when running in bare mode.\n",
      "2025-07-25 13:25:12.375 Thread 'MainThread': missing ScriptRunContext! This warning can be ignored when running in bare mode.\n",
      "2025-07-25 13:25:12.376 Thread 'MainThread': missing ScriptRunContext! This warning can be ignored when running in bare mode.\n",
      "2025-07-25 13:25:12.376 Thread 'MainThread': missing ScriptRunContext! This warning can be ignored when running in bare mode.\n",
      "2025-07-25 13:25:12.376 Thread 'MainThread': missing ScriptRunContext! This warning can be ignored when running in bare mode.\n",
      "2025-07-25 13:25:12.377 Thread 'MainThread': missing ScriptRunContext! This warning can be ignored when running in bare mode.\n",
      "2025-07-25 13:25:12.377 Thread 'MainThread': missing ScriptRunContext! This warning can be ignored when running in bare mode.\n",
      "2025-07-25 13:25:12.377 Thread 'MainThread': missing ScriptRunContext! This warning can be ignored when running in bare mode.\n",
      "2025-07-25 13:25:12.378 Thread 'MainThread': missing ScriptRunContext! This warning can be ignored when running in bare mode.\n"
     ]
    }
   ],
   "execution_count": 57
  }
 ],
 "metadata": {
  "kernelspec": {
   "display_name": "Python 3",
   "language": "python",
   "name": "python3"
  },
  "language_info": {
   "codemirror_mode": {
    "name": "ipython",
    "version": 2
   },
   "file_extension": ".py",
   "mimetype": "text/x-python",
   "name": "python",
   "nbconvert_exporter": "python",
   "pygments_lexer": "ipython2",
   "version": "2.7.6"
  }
 },
 "nbformat": 4,
 "nbformat_minor": 5
}
